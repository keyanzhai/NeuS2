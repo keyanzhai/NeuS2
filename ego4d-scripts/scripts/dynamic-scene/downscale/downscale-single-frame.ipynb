{
 "cells": [
  {
   "cell_type": "code",
   "execution_count": 1,
   "metadata": {},
   "outputs": [],
   "source": [
    "import cv2\n",
    "import numpy as np\n",
    "from pathlib import Path"
   ]
  },
  {
   "cell_type": "code",
   "execution_count": 13,
   "metadata": {},
   "outputs": [],
   "source": [
    "file_folder = Path(\"/home/kz/Desktop/Research/ego4d/raw-data/upenn_0715_Piano_1_4/single_frame/first-frame/012960/gp05_0/\")\n",
    "file_name = \"012960-u.jpg\"\n",
    "new_file_name = \"012960-half.jpg\""
   ]
  },
  {
   "cell_type": "code",
   "execution_count": 14,
   "metadata": {},
   "outputs": [
    {
     "name": "stdout",
     "output_type": "stream",
     "text": [
      "Saved image: /home/kz/Desktop/Research/ego4d/raw-data/upenn_0715_Piano_1_4/single_frame/first-frame/012960/gp05_0/012960-half.jpg\n"
     ]
    }
   ],
   "source": [
    "img_path = str(file_folder / file_name)\n",
    "\n",
    "original_img = cv2.imread(img_path)\n",
    "\n",
    "#########################################################\n",
    "\n",
    "scale_percent = 50 # percent of original size\n",
    "width = int(original_img.shape[1] * scale_percent / 100)\n",
    "height = int(original_img.shape[0] * scale_percent / 100)\n",
    "dim = (width, height)\n",
    "\n",
    "resized_img = cv2.resize(original_img, dim, interpolation = cv2.INTER_AREA)\n",
    "resized_img_name = str(file_folder / new_file_name)\n",
    "\n",
    "cv2.imwrite(resized_img_name, resized_img)\n",
    "print(\"Saved image: \" + resized_img_name)\n",
    "\n"
   ]
  },
  {
   "cell_type": "code",
   "execution_count": null,
   "metadata": {},
   "outputs": [],
   "source": []
  }
 ],
 "metadata": {
  "kernelspec": {
   "display_name": "human_pose",
   "language": "python",
   "name": "python3"
  },
  "language_info": {
   "codemirror_mode": {
    "name": "ipython",
    "version": 3
   },
   "file_extension": ".py",
   "mimetype": "text/x-python",
   "name": "python",
   "nbconvert_exporter": "python",
   "pygments_lexer": "ipython3",
   "version": "3.9.17"
  },
  "orig_nbformat": 4
 },
 "nbformat": 4,
 "nbformat_minor": 2
}
