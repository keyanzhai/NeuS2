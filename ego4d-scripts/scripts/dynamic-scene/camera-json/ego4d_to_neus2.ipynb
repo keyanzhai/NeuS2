{
 "cells": [
  {
   "cell_type": "code",
   "execution_count": 2,
   "metadata": {},
   "outputs": [],
   "source": [
    "from pathlib import Path\n",
    "import json"
   ]
  },
  {
   "cell_type": "code",
   "execution_count": 3,
   "metadata": {},
   "outputs": [],
   "source": [
    "input_json_file = Path(\"./data.json\")\n",
    "output_json_file = Path(\"./transform.json\")"
   ]
  },
  {
   "cell_type": "code",
   "execution_count": 5,
   "metadata": {},
   "outputs": [],
   "source": [
    "with open(input_json_file, \"r\") as infile:\n",
    "    ego_data = json.load(infile)"
   ]
  },
  {
   "cell_type": "code",
   "execution_count": 11,
   "metadata": {},
   "outputs": [],
   "source": [
    "neus2_json = {\n",
    "                \"w\": 3840,\n",
    "                \"h\": 2160,\n",
    "                \"aabb_scale\": 1,\n",
    "                \"scale\": 1,\n",
    "                \"offset\": [\n",
    "                    0,\n",
    "                    0,\n",
    "                    0\n",
    "                ],\n",
    "                \"from_na\": True,\n",
    "                \"frames\": []\n",
    "             }"
   ]
  },
  {
   "cell_type": "code",
   "execution_count": 12,
   "metadata": {},
   "outputs": [],
   "source": [
    "all_cameras = [\"gp01_0\", \"gp02_0\", \"gp03_0\", \"gp04_0\", \"gp05_0\"]"
   ]
  },
  {
   "cell_type": "code",
   "execution_count": 23,
   "metadata": {},
   "outputs": [],
   "source": [
    "width = 3840\n",
    "height = 2160"
   ]
  },
  {
   "cell_type": "code",
   "execution_count": 24,
   "metadata": {},
   "outputs": [],
   "source": [
    "for camera in all_cameras:\n",
    "    cam_data = ego_data[camera]\n",
    "    frame_path = cam_data[\"frame_path\"]\n",
    "    world_to_cam = cam_data[\"camera_data\"][\"T_world_device\"]\n",
    "    extrinsics_list = world_to_cam\n",
    "    \n",
    "    # Fisheye camera intrinsics\n",
    "    # [fx, fy, cx, cy, k1, k2, k3, k4]\n",
    "    fx = cam_data[\"_raw_camera\"][\"intrinsics_0\"]\n",
    "    fy = cam_data[\"_raw_camera\"][\"intrinsics_1\"]\n",
    "    cx = cam_data[\"_raw_camera\"][\"intrinsics_2\"]\n",
    "    cy = cam_data[\"_raw_camera\"][\"intrinsics_3\"]\n",
    "    k1 = cam_data[\"_raw_camera\"][\"intrinsics_4\"]\n",
    "    k2 = cam_data[\"_raw_camera\"][\"intrinsics_5\"]\n",
    "    k3 = cam_data[\"_raw_camera\"][\"intrinsics_6\"]\n",
    "    k4 = cam_data[\"_raw_camera\"][\"intrinsics_7\"]\n",
    "\n",
    "    # For Undistortion\n",
    "    # TODO\n",
    "\n",
    "    # For NeuS2\n",
    "    intrinsics_list = [\n",
    "        [   fx,\n",
    "            0.0,\n",
    "            width - cx,\n",
    "            0.0\n",
    "        ],\n",
    "        [\n",
    "            0.0,\n",
    "            fy,\n",
    "            height - cy,\n",
    "            0.0\n",
    "        ],\n",
    "        [\n",
    "            0.0,\n",
    "            0.0,\n",
    "            1.0,\n",
    "            0.0\n",
    "        ],\n",
    "        [\n",
    "            0.0,\n",
    "            0.0,\n",
    "            0.0,\n",
    "            1.0\n",
    "        ]\n",
    "    ]\n",
    "    \n",
    "    frame_data = {}\n",
    "    frame_data[\"file_path\"] = frame_path\n",
    "    frame_data[\"transform_matrix\"] = extrinsics_list\n",
    "    frame_data[\"intrinsic_matrix\"] = intrinsics_list\n",
    "    \n",
    "    neus2_json[\"frames\"].append(frame_data)\n"
   ]
  },
  {
   "cell_type": "code",
   "execution_count": 25,
   "metadata": {},
   "outputs": [],
   "source": [
    "neus2_json_object = json.dumps(neus2_json, indent=4)\n",
    "with open(output_json_file, \"w\") as outfile:\n",
    "    outfile.write(neus2_json_object)"
   ]
  },
  {
   "cell_type": "code",
   "execution_count": null,
   "metadata": {},
   "outputs": [],
   "source": []
  }
 ],
 "metadata": {
  "kernelspec": {
   "display_name": "human_pose",
   "language": "python",
   "name": "python3"
  },
  "language_info": {
   "codemirror_mode": {
    "name": "ipython",
    "version": 3
   },
   "file_extension": ".py",
   "mimetype": "text/x-python",
   "name": "python",
   "nbconvert_exporter": "python",
   "pygments_lexer": "ipython3",
   "version": "3.9.17"
  },
  "orig_nbformat": 4
 },
 "nbformat": 4,
 "nbformat_minor": 2
}
