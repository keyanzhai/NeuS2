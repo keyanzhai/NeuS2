{
 "cells": [
  {
   "cell_type": "code",
   "execution_count": 6,
   "metadata": {},
   "outputs": [],
   "source": [
    "# Use conda env \"human_pose\" for kernel\n",
    "from pathlib import Path\n",
    "import cv2\n",
    "import numpy as np"
   ]
  },
  {
   "cell_type": "code",
   "execution_count": 7,
   "metadata": {},
   "outputs": [],
   "source": [
    "%matplotlib inline\n",
    "from matplotlib import pyplot as plt"
   ]
  },
  {
   "cell_type": "code",
   "execution_count": 14,
   "metadata": {},
   "outputs": [],
   "source": [
    "source_dir = Path(\"/home/kz/OneDrive/Research/ego4d/data/dynamic-scene/images\")"
   ]
  },
  {
   "cell_type": "code",
   "execution_count": 15,
   "metadata": {},
   "outputs": [],
   "source": [
    "target_dir = Path(\"/home/kz/Desktop/Research/NeuS2-official/NeuS2/data/ego4d/dynamic-scene/images\")"
   ]
  },
  {
   "cell_type": "code",
   "execution_count": 16,
   "metadata": {},
   "outputs": [],
   "source": [
    "camera_list = [\"gp01\", \"gp02\", \"gp03\", \"gp04\", \"gp05\"]"
   ]
  },
  {
   "cell_type": "code",
   "execution_count": 17,
   "metadata": {},
   "outputs": [],
   "source": [
    "frame_range = range(12961, 12964 + 1)"
   ]
  },
  {
   "cell_type": "code",
   "execution_count": 24,
   "metadata": {},
   "outputs": [
    {
     "name": "stdout",
     "output_type": "stream",
     "text": [
      "Successfully saved image 012961_gp01_0_lh.png\n",
      "Successfully saved image 012961_gp02_0_lh.png\n",
      "Successfully saved image 012961_gp03_0_lh.png\n",
      "Successfully saved image 012961_gp04_0_lh.png\n",
      "Successfully saved image 012961_gp05_0_lh.png\n",
      "Successfully saved image 012962_gp01_0_lh.png\n",
      "Successfully saved image 012962_gp02_0_lh.png\n",
      "Successfully saved image 012962_gp03_0_lh.png\n",
      "Successfully saved image 012962_gp04_0_lh.png\n",
      "Successfully saved image 012962_gp05_0_lh.png\n",
      "Successfully saved image 012963_gp01_0_lh.png\n",
      "Successfully saved image 012963_gp02_0_lh.png\n",
      "Successfully saved image 012963_gp03_0_lh.png\n",
      "Successfully saved image 012963_gp04_0_lh.png\n",
      "Successfully saved image 012963_gp05_0_lh.png\n",
      "Successfully saved image 012964_gp01_0_lh.png\n",
      "Successfully saved image 012964_gp02_0_lh.png\n",
      "Successfully saved image 012964_gp03_0_lh.png\n",
      "Successfully saved image 012964_gp04_0_lh.png\n",
      "Successfully saved image 012964_gp05_0_lh.png\n"
     ]
    }
   ],
   "source": [
    "for frame_idx in frame_range:\n",
    "    frame_name = \"{:06d}\".format(frame_idx)\n",
    "    frame_path = source_dir / frame_name\n",
    "    output_dir = target_dir / frame_name\n",
    "\n",
    "    for camera in camera_list:\n",
    "        camera_path = frame_path / camera\n",
    "\n",
    "        img_path = camera_path / \"img.png\"\n",
    "        msk_path = camera_path / \"label.png\"\n",
    "\n",
    "        img = cv2.imread(str(img_path))\n",
    "        msk = cv2.imread(str(msk_path), 0) \n",
    "        msk[msk!=0] = 255\n",
    "\n",
    "        # Concatenate original image with mask channel\n",
    "        # Concatenate img and msk along last axis\n",
    "        image = np.concatenate([img, msk[:, :, np.newaxis]], axis=-1)\n",
    "\n",
    "        output_name = frame_name + \"_\" + camera + \"_0_lh.png\"\n",
    "        output_path = output_dir / output_name\n",
    "\n",
    "        cv2.imwrite(str(output_path), image)\n",
    "        print(\"Successfully saved image \" + output_name)\n",
    "    \n"
   ]
  },
  {
   "cell_type": "code",
   "execution_count": null,
   "metadata": {},
   "outputs": [],
   "source": []
  }
 ],
 "metadata": {
  "kernelspec": {
   "display_name": "human_pose",
   "language": "python",
   "name": "python3"
  },
  "language_info": {
   "codemirror_mode": {
    "name": "ipython",
    "version": 3
   },
   "file_extension": ".py",
   "mimetype": "text/x-python",
   "name": "python",
   "nbconvert_exporter": "python",
   "pygments_lexer": "ipython3",
   "version": "3.9.17"
  },
  "orig_nbformat": 4
 },
 "nbformat": 4,
 "nbformat_minor": 2
}
